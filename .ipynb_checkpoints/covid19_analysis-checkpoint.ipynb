{
 "cells": [
  {
   "cell_type": "markdown",
   "id": "67cf086b",
   "metadata": {},
   "source": [
    "# COVID - 19: Modeling, Prediction, and Control\n",
    "Younes, B, A., & Hasan, Z. (2020). Covid-19: Modeling, prediction, and Control. Applied Sciences, 10(11), 3666. https://doi.org/10.3390/app10113666 \n",
    "\n",
    "Jay Hwasung Jung \\\n",
    "CSYS 296: Computational Systems Biology \\\n",
    "David Bernstein\\\n",
    "Final Project\n"
   ]
  },
  {
   "cell_type": "markdown",
   "id": "1a1ca532",
   "metadata": {},
   "source": [
    "### Abstract\n",
    "COVID-19 generalized Lotka-Volterra (gLV) and Extended Kalman Filter (EKF)\n"
   ]
  },
  {
   "cell_type": "code",
   "execution_count": 1,
   "id": "099ba710",
   "metadata": {},
   "outputs": [],
   "source": [
    "import csv \n",
    "import numpy as np\n",
    "import pandas as pd\n",
    "import matplotlib.pyplot as plt\n",
    "import datetime as dt\n",
    "import seaborn as sns"
   ]
  },
  {
   "cell_type": "code",
   "execution_count": 2,
   "id": "9922478d",
   "metadata": {},
   "outputs": [],
   "source": [
    "# covid19 daily cases imported\n",
    "df = pd.read_csv('covid19.csv', sep=',')\n",
    "df['real_datetime'] = np.array((pd.to_datetime(time, format=\"%m/%d/%Y\") for time in df['ObservationDate']))\n",
    "\n",
    "# covid19 world daily cases from January 22, 2020 to March 31, 2020 based on the paper\n",
    "df_world = df[df['real_datetime'] >= dt.datetime(2020, 1, 22)]\n",
    "df_world_extended = df_world[df_world['real_datetime'] <= dt.datetime(2020, 4, 14)]\n",
    "df_world = df_world[df_world['real_datetime'] <= dt.datetime(2020, 3, 31)]\n",
    "\n",
    "# get total number of cases\n",
    "# world 1/22/2020 - 3/31/2020\n",
    "df_world = df_world.groupby(['real_datetime']).agg(\n",
    "    {'Confirmed': 'sum', 'Deaths': 'sum', 'Recovered': 'sum'})\n",
    "\n",
    "# world extended 1/22/2020 - 4/14/2020\n",
    "df_world_extended = df_world_extended.groupby(['real_datetime']).agg(\n",
    "    {'Confirmed': 'sum', 'Deaths': 'sum', 'Recovered': 'sum'})\n",
    "\n",
    "\n",
    "df_world = pd.DataFrame(data = df_world['Confirmed'].values/10000, index = np.arange(len(df_world)), columns = ['daily_cases'])\n",
    "df_world_extended = pd.DataFrame(data = df_world_extended['Confirmed'].values/10000, index = np.arange(len(df_world_extended)), columns = ['daily_cases'])\n",
    "\n",
    "df_world['day'] = np.arange(len(df_world))\n",
    "df_world_extended['day'] = np.arange(len(df_world_extended))\n",
    "\n",
    "\n",
    "# US\n",
    "df_us = df[df['Country/Region'] == 'US']\n",
    "\n",
    "# covid19 us daily cases from January 22, 2020 to March 31, 2020 based on the paper\n",
    "df_us = df_us[df_us['real_datetime'] >= dt.datetime(2020, 1, 22)]\n",
    "df_us_extended = df_us[df_us['real_datetime'] <= dt.datetime(2020, 4, 14)]\n",
    "df_us = df_us[df_us['real_datetime'] <= dt.datetime(2020, 3, 31)]\n",
    "\n",
    "\n",
    "# get total number of cases\n",
    "# US 1/22/2020 - 3/31/2020\n",
    "df_us = df_us.groupby(['real_datetime']).agg(\n",
    "    {'Confirmed': 'sum', 'Deaths': 'sum', 'Recovered': 'sum'})\n",
    "\n",
    "# US 1/22/2020 - 4/14/2020\n",
    "df_us_extended = df_us_extended.groupby(['real_datetime']).agg(\n",
    "    {'Confirmed': 'sum', 'Deaths': 'sum', 'Recovered': 'sum'})\n",
    "\n",
    "df_us = pd.DataFrame(data = df_us['Confirmed'].values/10000, index = np.arange(len(df_us)), columns = ['daily_cases'])\n",
    "df_us_extended = pd.DataFrame(data = df_us_extended['Confirmed'].values/10000, index = np.arange(len(df_us_extended)), columns = ['daily_cases'])\n",
    "\n",
    "df_us['day'] = np.arange(len(df_us))\n",
    "df_us_extended['day'] = np.arange(len(df_us_extended))"
   ]
  },
  {
   "cell_type": "code",
   "execution_count": 3,
   "id": "545d197e",
   "metadata": {},
   "outputs": [
    {
     "data": {
      "text/plain": [
       "Text(0, 0.5, 'Daily Cases (1/10000)')"
      ]
     },
     "execution_count": 3,
     "metadata": {},
     "output_type": "execute_result"
    },
    {
     "data": {
      "image/png": "[encoded data removed]",
      "text/plain": [
       "<Figure size 432x288 with 1 Axes>"
      ]
     },
     "metadata": {
      "needs_background": "light"
     },
     "output_type": "display_data"
    }
   ],
   "source": [
    "# US & World daily confirmed cases\n",
    "sns.lineplot(data=df_us, x='day', y='daily_cases', marker='o', color='darkcyan')\n",
    "sns.lineplot(data=df_world, x='day', y='daily_cases', marker='o', color='maroon')\n",
    "\n",
    "plt.title('COVID-19 Daily Confirmed Cases')\n",
    "plt.legend(['US', 'World'])\n",
    "plt.xlabel('Days')\n",
    "plt.ylabel('Daily Cases (1/10000)')"
   ]
  },
  {
   "cell_type": "markdown",
   "id": "0fa67165",
   "metadata": {},
   "source": [
    "### Statistical Power Series Model\n",
    "\n",
    "$\\large y_j = \\sum_{n=1}^N a_nt^n$; $j = 0,1,...,M$\n",
    "\n",
    "According to the paper (Younes and Hasan, 2020), the statistical power series model"
   ]
  },
  {
   "cell_type": "code",
   "execution_count": 4,
   "id": "7f6546dd",
   "metadata": {},
   "outputs": [],
   "source": [
    "# Due to the differnece in datasets, the function below does not work, \n",
    "# so I decided to create my own polynomical regression using Numpy\n",
    "\n",
    "def y_global_stat(t):\n",
    "    return t**3 - 78*t**2 + 1600*t - 5300\n",
    "\n",
    "def y_us_stat(t):\n",
    "    return 0.0097*t**4 - t**3 + 33*t**2 - 3700*t + 9900\n"
   ]
  },
  {
   "cell_type": "code",
   "execution_count": 5,
   "id": "187e776e",
   "metadata": {},
   "outputs": [],
   "source": [
    "\n",
    "# polynomical regression model for global prediction\n",
    "y_global = np.poly1d(np.polyfit(df_world['day'], df_world['daily_cases'], 4))\n",
    "y_us = np.poly1d(np.polyfit(df_us['day'], df_us['daily_cases'], 4))\n",
    "\n",
    "# get prediction for 14 days\n",
    "y_global_predict = pd.DataFrame(data = np.array([y_global(t) for t in range(0,len(df_world_extended))]), \n",
    "                        columns = ['daily_cases'], \n",
    "                        index = np.arange(len(df_world_extended)))\n",
    "y_us_predict = pd.DataFrame(data = np.array([y_us(t) for t in range(0,len(df_us_extended))]), \n",
    "                        columns = ['daily_cases'], \n",
    "                        index = np.arange(len(df_us_extended)))\n",
    "\n",
    "\n",
    "y_global_predict['day'] = np.arange(len(y_global_predict))\n",
    "y_us_predict['day'] = np.arange(len(y_us_predict))"
   ]
  },
  {
   "cell_type": "code",
   "execution_count": 6,
   "id": "3887370a-baec-454d-8845-02e7e7361485",
   "metadata": {},
   "outputs": [
    {
     "data": {
      "text/plain": [
       "Text(0, 0.5, 'Daily Cases (1/10000)')"
      ]
     },
     "execution_count": 6,
     "metadata": {},
     "output_type": "execute_result"
    },
    {
     "data": {
      "image/png": "[encoded data removed]",
      "text/plain": [
       "<Figure size 432x288 with 1 Axes>"
      ]
     },
     "metadata": {
      "needs_background": "light"
     },
     "output_type": "display_data"
    }
   ],
   "source": [
    "# US daily confirmed cases\n",
    "sns.lineplot(data=df_world_extended, x='day', y='daily_cases', marker='o', color='maroon')\n",
    "sns.lineplot(data=df_us_extended, x='day', y='daily_cases', marker='o', color='darkorchid')\n",
    "\n",
    "sns.lineplot(data=y_global_predict, x='day', y='daily_cases', marker='o', color='darkcyan', alpha=0.4)\n",
    "sns.lineplot(data=y_us_predict, x='day', y='daily_cases', marker='o', color='forestgreen', alpha=0.4)\n",
    "\n",
    "plt.axvline(x = 70, linestyle =\"--\", color = \"paleturquoise\")\n",
    "\n",
    "plt.title('COVID-19 Daily Confirmed Cases')\n",
    "plt.legend(['World Covid Cases', 'US Covid Cases','World Predicted Model', 'US Predicted Model'])\n",
    "plt.xlabel('Days after Jan 22, 2020')\n",
    "plt.ylabel('Daily Cases (1/10000)')"
   ]
  },
  {
   "cell_type": "markdown",
   "id": "b41a63f3",
   "metadata": {},
   "source": [
    "### Generalized Lokta-Volterra Model"
   ]
  },
  {
   "cell_type": "markdown",
   "id": "c41db7f2-b82a-4cc6-b42c-12699083958e",
   "metadata": {},
   "source": [
    "Dynamic models play important roles in describing the interationcs among specific behabior. \n",
    "\n",
    "Let {$x_i(t); i = 1,..., N$} be the relative abundance level of the $i$th species at time $t$ whose intrinsic growth rate is $g_i$. Let $c_{ij}$ represent the strenth of the influence of species $i$ onto species $j$ (or interaction coefficient). \n",
    "\n",
    "Below is the gLV model:\n",
    "\n",
    "$\\large \\frac{d}{dt}x_i(t) = g_ix_i(t) + x_i(t)\\sum_{j=1}^{N}c_{ij}x_j(t)$\n",
    "\n",
    "$i = 1, ..., N$\n",
    "\n",
    "To model effects of external perturbations (e.g. antibiotics and diets) onto the microbial community structure, Younes and Hasan (2020) added another term to which modulates the influence of each simulating source into each member of the ecosystem.\n",
    "\n",
    "$\\epsilon_{il}$ represent the sensitivity of the $i$th species in response to $l$th behaviour or control action with signal strength $u_l$\n",
    "\n",
    "$\\large \\frac{d}{dt}x_i(t) = g_ix_i(t) + x_i(t)\\sum_{j=1}^{N}c_{ij}x_j(t) + x_i(t)\\sum_{l=1}^{L}\\epsilon_{il}u_l(t)$\n",
    "\n",
    "The proposed COVID-19 dynamic model considers two species:\n",
    "\n",
    "(1) $ \\large X_H(t)$: healthy individual popluation at time $t$\\\n",
    "(2) $ \\large X_I(t)$: infected individual popluation at time $t$\n",
    "\n",
    "Differential equation below illustrate the population dynamics:\n"
   ]
  },
  {
   "cell_type": "markdown",
   "id": "a8ad272c-6807-41ae-8213-dc9a1073e37f",
   "metadata": {},
   "source": [
    "<img src=\"./(1).png\">"
   ]
  },
  {
   "cell_type": "markdown",
   "id": "ef4854fa-a189-4891-9ce3-271c1db8f4cf",
   "metadata": {},
   "source": [
    "At the time when the research paper has released, there is no reliable data for control (hands, elbow, face, space, home).\\\n",
    "\n",
    "In the research paper, it assumes that 50% of the populations (100) got infected. "
   ]
  },
  {
   "cell_type": "code",
   "execution_count": null,
   "id": "06978029-05ee-453c-9552-e3be8d325c83",
   "metadata": {},
   "outputs": [],
   "source": [
    "\n",
    "def gLV_dynamics(t, alpha, beta, gamma, eta, delta):\n",
    "    dydt = \n",
    "\n",
    "    "
   ]
  },
  {
   "cell_type": "code",
   "execution_count": 9,
   "id": "372a6022-5ae3-454d-8287-5fdbb60c262d",
   "metadata": {},
   "outputs": [],
   "source": [
    "# # immigration \n",
    "# alpha_h = [0, 0.001, 0.001]\n",
    "# alpha_i = [0, 0.001, 0.001]\n",
    "\n",
    "# # infection rate\n",
    "# beta = [0, 0.005, 0.05]\n",
    "\n",
    "# # recovery\n",
    "# gamma = np.ones(3) * 0.25\n",
    "\n",
    "# # birth rate\n",
    "# eta_h = [0.1, 0.1, 0.1]\n",
    "# eta_i = [0, 0, 0]\n",
    "\n",
    "# # death\n",
    "# delta_h = [0.001, 0.01, 0.01]\n",
    "# delta_i = np.ones(3) * 0.05\n",
    "\n",
    "# immigration \n",
    "alpha_h = 0\n",
    "alpha_i = 0\n",
    "\n",
    "# infection rate\n",
    "beta = 0\n",
    "\n",
    "# recovery\n",
    "gamma = 0.25\n",
    "\n",
    "# birth rate\n",
    "eta_h = 0.1\n",
    "eta_i = 0\n",
    "# death\n",
    "delta_h = 0.001\n",
    "delta_i = 0.05\n",
    "\n",
    "# population change\n",
    "a = np.matrix([[alpha_h + eta_h - delta_h, gamma],\n",
    "              0, alpha_i - gamma + eta_i - delta_i])\n",
    "f_1 = np.matrix([[-beta], [beta]])\n",
    "\n",
    "# in the paper, it assumes that the control did not work as there was lack of data\n",
    "# initial conditions\n",
    "y0 = [50, 50]\n",
    "\n",
    "t = np.linespace(0,100,1000)\n",
    "tspan = [t[0], t[-1]] \n",
    "ode_sol = solve_ivp(gLV_dynamics, tspan, y0, t_eval=t, args =(a, f_1))\n",
    "\n"
   ]
  }
 ],
 "metadata": {
  "kernelspec": {
   "display_name": "Python 3 (ipykernel)",
   "language": "python",
   "name": "python3"
  },
  "language_info": {
   "codemirror_mode": {
    "name": "ipython",
    "version": 3
   },
   "file_extension": ".py",
   "mimetype": "text/x-python",
   "name": "python",
   "nbconvert_exporter": "python",
   "pygments_lexer": "ipython3",
   "version": "3.9.12"
  }
 },
 "nbformat": 4,
 "nbformat_minor": 5
}
